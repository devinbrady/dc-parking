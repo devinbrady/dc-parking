{
 "cells": [
  {
   "cell_type": "markdown",
   "metadata": {},
   "source": [
    "Join parking spot points to other shapefiles to get counts of parking spots in various geographies.\n",
    "\n",
    "Save out to a new geojson with additional fields."
   ]
  },
  {
   "cell_type": "code",
   "execution_count": 1,
   "metadata": {},
   "outputs": [],
   "source": [
    "import pandas as pd\n",
    "import geopandas as gpd"
   ]
  },
  {
   "cell_type": "markdown",
   "metadata": {},
   "source": [
    "## Spatial Join saga\n",
    "\n",
    "geopandas says I need pygeos or rtreet to do a spatial join. https://geopandas.org/install.html\n",
    "\n",
    "### pip install pygeos\n",
    "\n",
    "This breaks the gpd.read_file() for the ANC shapefile. Get the error `Shell is not a LinearRing Error`. Uninstalling pygeos\n",
    "\n",
    "### pip install rtree\n",
    "\n",
    "`ERROR: Command errored out with exit status 1: python setup.py egg_info Check the logs for full command output.`\n",
    "\n",
    "Trying `brew install spatialindex`\n",
    "\n",
    "based off of https://stackoverflow.com/questions/59981914/missing-dependancies-of-rtree\n",
    "\n",
    "`pip install rtree` works"
   ]
  },
  {
   "cell_type": "code",
   "execution_count": 2,
   "metadata": {},
   "outputs": [],
   "source": [
    "estimated_spots = gpd.read_file('output/estimated_rpp_spots.geojson')"
   ]
  },
  {
   "cell_type": "markdown",
   "metadata": {},
   "source": [
    "## ANC"
   ]
  },
  {
   "cell_type": "code",
   "execution_count": 3,
   "metadata": {},
   "outputs": [],
   "source": [
    "anc = gpd.read_file(\n",
    "    'input/Advisory_Neighborhood_Commissions_from_2013-shp/Advisory_Neighborhood_Commissions_from_2013.shp')"
   ]
  },
  {
   "cell_type": "code",
   "execution_count": 4,
   "metadata": {},
   "outputs": [],
   "source": [
    "anc_spots = gpd.sjoin(estimated_spots, anc[['geometry', 'ANC_ID']], how='left', op='intersects')"
   ]
  },
  {
   "cell_type": "code",
   "execution_count": 5,
   "metadata": {},
   "outputs": [],
   "source": [
    "anc_spots.drop('index_right', axis=1, inplace=True)"
   ]
  },
  {
   "cell_type": "code",
   "execution_count": 6,
   "metadata": {},
   "outputs": [
    {
     "data": {
      "text/html": [
       "<div>\n",
       "<style scoped>\n",
       "    .dataframe tbody tr th:only-of-type {\n",
       "        vertical-align: middle;\n",
       "    }\n",
       "\n",
       "    .dataframe tbody tr th {\n",
       "        vertical-align: top;\n",
       "    }\n",
       "\n",
       "    .dataframe thead th {\n",
       "        text-align: right;\n",
       "    }\n",
       "</style>\n",
       "<table border=\"1\" class=\"dataframe\">\n",
       "  <thead>\n",
       "    <tr style=\"text-align: right;\">\n",
       "      <th></th>\n",
       "      <th>parking_spot_id</th>\n",
       "      <th>source_street_objectid</th>\n",
       "      <th>street_name</th>\n",
       "      <th>street_type</th>\n",
       "      <th>quadrant</th>\n",
       "      <th>block_number</th>\n",
       "      <th>ward</th>\n",
       "      <th>blkstreet</th>\n",
       "      <th>block_side</th>\n",
       "      <th>geometry</th>\n",
       "      <th>ANC_ID</th>\n",
       "    </tr>\n",
       "  </thead>\n",
       "  <tbody>\n",
       "    <tr>\n",
       "      <th>0</th>\n",
       "      <td>129004</td>\n",
       "      <td>1972000</td>\n",
       "      <td>MACARTHUR</td>\n",
       "      <td>BLVD</td>\n",
       "      <td>NW</td>\n",
       "      <td>5800.0</td>\n",
       "      <td>3</td>\n",
       "      <td>5800 MACARTHUR BLVD NW</td>\n",
       "      <td>both sides</td>\n",
       "      <td>POINT (-77.11153 38.93556)</td>\n",
       "      <td>3D</td>\n",
       "    </tr>\n",
       "    <tr>\n",
       "      <th>1</th>\n",
       "      <td>129003</td>\n",
       "      <td>1972000</td>\n",
       "      <td>MACARTHUR</td>\n",
       "      <td>BLVD</td>\n",
       "      <td>NW</td>\n",
       "      <td>5800.0</td>\n",
       "      <td>3</td>\n",
       "      <td>5800 MACARTHUR BLVD NW</td>\n",
       "      <td>both sides</td>\n",
       "      <td>POINT (-77.11149 38.93551)</td>\n",
       "      <td>3D</td>\n",
       "    </tr>\n",
       "    <tr>\n",
       "      <th>2</th>\n",
       "      <td>128980</td>\n",
       "      <td>1972000</td>\n",
       "      <td>MACARTHUR</td>\n",
       "      <td>BLVD</td>\n",
       "      <td>NW</td>\n",
       "      <td>5800.0</td>\n",
       "      <td>3</td>\n",
       "      <td>5800 MACARTHUR BLVD NW</td>\n",
       "      <td>both sides</td>\n",
       "      <td>POINT (-77.11148 38.93559)</td>\n",
       "      <td>3D</td>\n",
       "    </tr>\n",
       "    <tr>\n",
       "      <th>3</th>\n",
       "      <td>129002</td>\n",
       "      <td>1972000</td>\n",
       "      <td>MACARTHUR</td>\n",
       "      <td>BLVD</td>\n",
       "      <td>NW</td>\n",
       "      <td>5800.0</td>\n",
       "      <td>3</td>\n",
       "      <td>5800 MACARTHUR BLVD NW</td>\n",
       "      <td>both sides</td>\n",
       "      <td>POINT (-77.11146 38.93546)</td>\n",
       "      <td>3D</td>\n",
       "    </tr>\n",
       "    <tr>\n",
       "      <th>4</th>\n",
       "      <td>128979</td>\n",
       "      <td>1972000</td>\n",
       "      <td>MACARTHUR</td>\n",
       "      <td>BLVD</td>\n",
       "      <td>NW</td>\n",
       "      <td>5800.0</td>\n",
       "      <td>3</td>\n",
       "      <td>5800 MACARTHUR BLVD NW</td>\n",
       "      <td>both sides</td>\n",
       "      <td>POINT (-77.11144 38.93554)</td>\n",
       "      <td>3D</td>\n",
       "    </tr>\n",
       "  </tbody>\n",
       "</table>\n",
       "</div>"
      ],
      "text/plain": [
       "  parking_spot_id source_street_objectid street_name street_type quadrant  \\\n",
       "0          129004                1972000   MACARTHUR        BLVD       NW   \n",
       "1          129003                1972000   MACARTHUR        BLVD       NW   \n",
       "2          128980                1972000   MACARTHUR        BLVD       NW   \n",
       "3          129002                1972000   MACARTHUR        BLVD       NW   \n",
       "4          128979                1972000   MACARTHUR        BLVD       NW   \n",
       "\n",
       "   block_number  ward               blkstreet  block_side  \\\n",
       "0        5800.0     3  5800 MACARTHUR BLVD NW  both sides   \n",
       "1        5800.0     3  5800 MACARTHUR BLVD NW  both sides   \n",
       "2        5800.0     3  5800 MACARTHUR BLVD NW  both sides   \n",
       "3        5800.0     3  5800 MACARTHUR BLVD NW  both sides   \n",
       "4        5800.0     3  5800 MACARTHUR BLVD NW  both sides   \n",
       "\n",
       "                     geometry ANC_ID  \n",
       "0  POINT (-77.11153 38.93556)     3D  \n",
       "1  POINT (-77.11149 38.93551)     3D  \n",
       "2  POINT (-77.11148 38.93559)     3D  \n",
       "3  POINT (-77.11146 38.93546)     3D  \n",
       "4  POINT (-77.11144 38.93554)     3D  "
      ]
     },
     "execution_count": 6,
     "metadata": {},
     "output_type": "execute_result"
    }
   ],
   "source": [
    "anc_spots.head()"
   ]
  },
  {
   "cell_type": "markdown",
   "metadata": {},
   "source": [
    "## Census Block"
   ]
  },
  {
   "cell_type": "code",
   "execution_count": 7,
   "metadata": {},
   "outputs": [],
   "source": [
    "cb = gpd.read_file('input/tl_2019_11_tabblock10/tl_2019_11_tabblock10.shp')"
   ]
  },
  {
   "cell_type": "code",
   "execution_count": 8,
   "metadata": {},
   "outputs": [],
   "source": [
    "output_crs = ('epsg', '4326')\n",
    "cb = cb.to_crs(output_crs)"
   ]
  },
  {
   "cell_type": "code",
   "execution_count": 9,
   "metadata": {},
   "outputs": [],
   "source": [
    "# GEOID10 seems to be the field with tract, block group, and block\n",
    "anc_cb_spots = gpd.sjoin(anc_spots, cb[['geometry', 'GEOID10']], how='left', op='intersects')"
   ]
  },
  {
   "cell_type": "code",
   "execution_count": 10,
   "metadata": {},
   "outputs": [],
   "source": [
    "anc_cb_spots.drop('index_right', axis=1, inplace=True)"
   ]
  },
  {
   "cell_type": "markdown",
   "metadata": {},
   "source": [
    "## Census Tract"
   ]
  },
  {
   "cell_type": "code",
   "execution_count": 11,
   "metadata": {},
   "outputs": [],
   "source": [
    "anc_cb_spots['census_tract'] = anc_cb_spots['GEOID10'].str[5:11]"
   ]
  },
  {
   "cell_type": "markdown",
   "metadata": {},
   "source": [
    "## Save Output"
   ]
  },
  {
   "cell_type": "code",
   "execution_count": 12,
   "metadata": {},
   "outputs": [],
   "source": [
    "def geojson_to_csv(input_geojson):\n",
    "    \"\"\"\n",
    "    Save a copy of a GeoJSON file as a CSV\n",
    "    \"\"\"\n",
    "\n",
    "    gdf = gpd.read_file(input_geojson)\n",
    "    \n",
    "    gdf['longitude'] = gdf['geometry'].x\n",
    "    gdf['latitude'] = gdf['geometry'].y\n",
    "\n",
    "    columns_to_csv = [c for c in gdf if c != 'geometry']\n",
    "    output_filename = input_geojson.replace('.geojson', '.csv')\n",
    "    gdf.to_csv(output_filename, index=False)\n",
    "    print(f'CSV saved to: {output_filename}')\n"
   ]
  },
  {
   "cell_type": "code",
   "execution_count": 13,
   "metadata": {},
   "outputs": [
    {
     "data": {
      "text/html": [
       "<div>\n",
       "<style scoped>\n",
       "    .dataframe tbody tr th:only-of-type {\n",
       "        vertical-align: middle;\n",
       "    }\n",
       "\n",
       "    .dataframe tbody tr th {\n",
       "        vertical-align: top;\n",
       "    }\n",
       "\n",
       "    .dataframe thead th {\n",
       "        text-align: right;\n",
       "    }\n",
       "</style>\n",
       "<table border=\"1\" class=\"dataframe\">\n",
       "  <thead>\n",
       "    <tr style=\"text-align: right;\">\n",
       "      <th></th>\n",
       "      <th>parking_spot_id</th>\n",
       "      <th>source_street_objectid</th>\n",
       "      <th>street_name</th>\n",
       "      <th>street_type</th>\n",
       "      <th>quadrant</th>\n",
       "      <th>block_number</th>\n",
       "      <th>ward</th>\n",
       "      <th>blkstreet</th>\n",
       "      <th>block_side</th>\n",
       "      <th>geometry</th>\n",
       "      <th>ANC_ID</th>\n",
       "      <th>GEOID10</th>\n",
       "      <th>census_tract</th>\n",
       "    </tr>\n",
       "  </thead>\n",
       "  <tbody>\n",
       "    <tr>\n",
       "      <th>0</th>\n",
       "      <td>129004</td>\n",
       "      <td>1972000</td>\n",
       "      <td>MACARTHUR</td>\n",
       "      <td>BLVD</td>\n",
       "      <td>NW</td>\n",
       "      <td>5800.0</td>\n",
       "      <td>3</td>\n",
       "      <td>5800 MACARTHUR BLVD NW</td>\n",
       "      <td>both sides</td>\n",
       "      <td>POINT (-77.11153 38.93556)</td>\n",
       "      <td>3D</td>\n",
       "      <td>110010009022005</td>\n",
       "      <td>000902</td>\n",
       "    </tr>\n",
       "    <tr>\n",
       "      <th>1</th>\n",
       "      <td>129003</td>\n",
       "      <td>1972000</td>\n",
       "      <td>MACARTHUR</td>\n",
       "      <td>BLVD</td>\n",
       "      <td>NW</td>\n",
       "      <td>5800.0</td>\n",
       "      <td>3</td>\n",
       "      <td>5800 MACARTHUR BLVD NW</td>\n",
       "      <td>both sides</td>\n",
       "      <td>POINT (-77.11149 38.93551)</td>\n",
       "      <td>3D</td>\n",
       "      <td>110010009022005</td>\n",
       "      <td>000902</td>\n",
       "    </tr>\n",
       "    <tr>\n",
       "      <th>2</th>\n",
       "      <td>128980</td>\n",
       "      <td>1972000</td>\n",
       "      <td>MACARTHUR</td>\n",
       "      <td>BLVD</td>\n",
       "      <td>NW</td>\n",
       "      <td>5800.0</td>\n",
       "      <td>3</td>\n",
       "      <td>5800 MACARTHUR BLVD NW</td>\n",
       "      <td>both sides</td>\n",
       "      <td>POINT (-77.11148 38.93559)</td>\n",
       "      <td>3D</td>\n",
       "      <td>110010009011003</td>\n",
       "      <td>000901</td>\n",
       "    </tr>\n",
       "    <tr>\n",
       "      <th>3</th>\n",
       "      <td>129002</td>\n",
       "      <td>1972000</td>\n",
       "      <td>MACARTHUR</td>\n",
       "      <td>BLVD</td>\n",
       "      <td>NW</td>\n",
       "      <td>5800.0</td>\n",
       "      <td>3</td>\n",
       "      <td>5800 MACARTHUR BLVD NW</td>\n",
       "      <td>both sides</td>\n",
       "      <td>POINT (-77.11146 38.93546)</td>\n",
       "      <td>3D</td>\n",
       "      <td>110010009022005</td>\n",
       "      <td>000902</td>\n",
       "    </tr>\n",
       "    <tr>\n",
       "      <th>4</th>\n",
       "      <td>128979</td>\n",
       "      <td>1972000</td>\n",
       "      <td>MACARTHUR</td>\n",
       "      <td>BLVD</td>\n",
       "      <td>NW</td>\n",
       "      <td>5800.0</td>\n",
       "      <td>3</td>\n",
       "      <td>5800 MACARTHUR BLVD NW</td>\n",
       "      <td>both sides</td>\n",
       "      <td>POINT (-77.11144 38.93554)</td>\n",
       "      <td>3D</td>\n",
       "      <td>110010009011003</td>\n",
       "      <td>000901</td>\n",
       "    </tr>\n",
       "  </tbody>\n",
       "</table>\n",
       "</div>"
      ],
      "text/plain": [
       "  parking_spot_id source_street_objectid street_name street_type quadrant  \\\n",
       "0          129004                1972000   MACARTHUR        BLVD       NW   \n",
       "1          129003                1972000   MACARTHUR        BLVD       NW   \n",
       "2          128980                1972000   MACARTHUR        BLVD       NW   \n",
       "3          129002                1972000   MACARTHUR        BLVD       NW   \n",
       "4          128979                1972000   MACARTHUR        BLVD       NW   \n",
       "\n",
       "   block_number  ward               blkstreet  block_side  \\\n",
       "0        5800.0     3  5800 MACARTHUR BLVD NW  both sides   \n",
       "1        5800.0     3  5800 MACARTHUR BLVD NW  both sides   \n",
       "2        5800.0     3  5800 MACARTHUR BLVD NW  both sides   \n",
       "3        5800.0     3  5800 MACARTHUR BLVD NW  both sides   \n",
       "4        5800.0     3  5800 MACARTHUR BLVD NW  both sides   \n",
       "\n",
       "                     geometry ANC_ID          GEOID10 census_tract  \n",
       "0  POINT (-77.11153 38.93556)     3D  110010009022005       000902  \n",
       "1  POINT (-77.11149 38.93551)     3D  110010009022005       000902  \n",
       "2  POINT (-77.11148 38.93559)     3D  110010009011003       000901  \n",
       "3  POINT (-77.11146 38.93546)     3D  110010009022005       000902  \n",
       "4  POINT (-77.11144 38.93554)     3D  110010009011003       000901  "
      ]
     },
     "execution_count": 13,
     "metadata": {},
     "output_type": "execute_result"
    }
   ],
   "source": [
    "anc_cb_spots.head()"
   ]
  },
  {
   "cell_type": "code",
   "execution_count": 14,
   "metadata": {},
   "outputs": [],
   "source": [
    "output_file = 'output/estimated_rpp_spots_anc_census.geojson'\n",
    "anc_cb_spots.to_file(output_file, driver='GeoJSON')"
   ]
  },
  {
   "cell_type": "code",
   "execution_count": 15,
   "metadata": {},
   "outputs": [
    {
     "name": "stdout",
     "output_type": "stream",
     "text": [
      "CSV saved to: output/estimated_rpp_spots_anc_census.csv\n"
     ]
    }
   ],
   "source": [
    "geojson_to_csv(output_file)"
   ]
  },
  {
   "cell_type": "code",
   "execution_count": null,
   "metadata": {},
   "outputs": [],
   "source": []
  }
 ],
 "metadata": {
  "kernelspec": {
   "display_name": "Python 3",
   "language": "python",
   "name": "python3"
  },
  "language_info": {
   "codemirror_mode": {
    "name": "ipython",
    "version": 3
   },
   "file_extension": ".py",
   "mimetype": "text/x-python",
   "name": "python",
   "nbconvert_exporter": "python",
   "pygments_lexer": "ipython3",
   "version": "3.7.1"
  }
 },
 "nbformat": 4,
 "nbformat_minor": 4
}
