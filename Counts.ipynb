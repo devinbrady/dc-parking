{
 "cells": [
  {
   "cell_type": "markdown",
   "metadata": {},
   "source": [
    "Counts on the dataset of estimated residential parking permit (RPP) parking spots in DC."
   ]
  },
  {
   "cell_type": "code",
   "execution_count": 1,
   "metadata": {},
   "outputs": [],
   "source": [
    "import pandas as pd\n",
    "import geopandas as gpd"
   ]
  },
  {
   "cell_type": "code",
   "execution_count": 2,
   "metadata": {},
   "outputs": [],
   "source": [
    "estimated_spots = gpd.read_file('output/estimated_rpp_spots.geojson')"
   ]
  },
  {
   "cell_type": "markdown",
   "metadata": {},
   "source": [
    "## Total"
   ]
  },
  {
   "cell_type": "code",
   "execution_count": 3,
   "metadata": {},
   "outputs": [
    {
     "name": "stdout",
     "output_type": "stream",
     "text": [
      "Total RPP spots: 155,077\n"
     ]
    }
   ],
   "source": [
    "print('Total RPP spots: {:,.0f}'.format(len(estimated_spots)))"
   ]
  },
  {
   "cell_type": "markdown",
   "metadata": {},
   "source": [
    "## RPP Spots by Ward"
   ]
  },
  {
   "cell_type": "code",
   "execution_count": 4,
   "metadata": {},
   "outputs": [
    {
     "data": {
      "text/html": [
       "<style  type=\"text/css\" >\n",
       "#T_dfe60d90_f253_11ea_98e2_acde48001122row0_col0{\n",
       "            width:  10em;\n",
       "             height:  80%;\n",
       "            background:  linear-gradient(90deg,#d65f5f 38.5%, transparent 38.5%);\n",
       "        }#T_dfe60d90_f253_11ea_98e2_acde48001122row1_col0{\n",
       "            width:  10em;\n",
       "             height:  80%;\n",
       "            background:  linear-gradient(90deg,#d65f5f 40.0%, transparent 40.0%);\n",
       "        }#T_dfe60d90_f253_11ea_98e2_acde48001122row2_col0{\n",
       "            width:  10em;\n",
       "             height:  80%;\n",
       "            background:  linear-gradient(90deg,#d65f5f 100.0%, transparent 100.0%);\n",
       "        }#T_dfe60d90_f253_11ea_98e2_acde48001122row3_col0{\n",
       "            width:  10em;\n",
       "             height:  80%;\n",
       "            background:  linear-gradient(90deg,#d65f5f 60.2%, transparent 60.2%);\n",
       "        }#T_dfe60d90_f253_11ea_98e2_acde48001122row4_col0{\n",
       "            width:  10em;\n",
       "             height:  80%;\n",
       "            background:  linear-gradient(90deg,#d65f5f 44.7%, transparent 44.7%);\n",
       "        }#T_dfe60d90_f253_11ea_98e2_acde48001122row5_col0{\n",
       "            width:  10em;\n",
       "             height:  80%;\n",
       "            background:  linear-gradient(90deg,#d65f5f 72.5%, transparent 72.5%);\n",
       "        }#T_dfe60d90_f253_11ea_98e2_acde48001122row6_col0{\n",
       "            width:  10em;\n",
       "             height:  80%;\n",
       "            background:  linear-gradient(90deg,#d65f5f 29.5%, transparent 29.5%);\n",
       "        }#T_dfe60d90_f253_11ea_98e2_acde48001122row7_col0{\n",
       "            width:  10em;\n",
       "             height:  80%;\n",
       "            background:  linear-gradient(90deg,#d65f5f 12.8%, transparent 12.8%);\n",
       "        }</style><table id=\"T_dfe60d90_f253_11ea_98e2_acde48001122\" ><thead>    <tr>        <th class=\"blank level0\" ></th>        <th class=\"col_heading level0 col0\" >rpp_spots</th>    </tr>    <tr>        <th class=\"index_name level0\" >ward</th>        <th class=\"blank\" ></th>    </tr></thead><tbody>\n",
       "                <tr>\n",
       "                        <th id=\"T_dfe60d90_f253_11ea_98e2_acde48001122level0_row0\" class=\"row_heading level0 row0\" >1</th>\n",
       "                        <td id=\"T_dfe60d90_f253_11ea_98e2_acde48001122row0_col0\" class=\"data row0 col0\" >14,997</td>\n",
       "            </tr>\n",
       "            <tr>\n",
       "                        <th id=\"T_dfe60d90_f253_11ea_98e2_acde48001122level0_row1\" class=\"row_heading level0 row1\" >2</th>\n",
       "                        <td id=\"T_dfe60d90_f253_11ea_98e2_acde48001122row1_col0\" class=\"data row1 col0\" >15,591</td>\n",
       "            </tr>\n",
       "            <tr>\n",
       "                        <th id=\"T_dfe60d90_f253_11ea_98e2_acde48001122level0_row2\" class=\"row_heading level0 row2\" >3</th>\n",
       "                        <td id=\"T_dfe60d90_f253_11ea_98e2_acde48001122row2_col0\" class=\"data row2 col0\" >38,947</td>\n",
       "            </tr>\n",
       "            <tr>\n",
       "                        <th id=\"T_dfe60d90_f253_11ea_98e2_acde48001122level0_row3\" class=\"row_heading level0 row3\" >4</th>\n",
       "                        <td id=\"T_dfe60d90_f253_11ea_98e2_acde48001122row3_col0\" class=\"data row3 col0\" >23,448</td>\n",
       "            </tr>\n",
       "            <tr>\n",
       "                        <th id=\"T_dfe60d90_f253_11ea_98e2_acde48001122level0_row4\" class=\"row_heading level0 row4\" >5</th>\n",
       "                        <td id=\"T_dfe60d90_f253_11ea_98e2_acde48001122row4_col0\" class=\"data row4 col0\" >17,405</td>\n",
       "            </tr>\n",
       "            <tr>\n",
       "                        <th id=\"T_dfe60d90_f253_11ea_98e2_acde48001122level0_row5\" class=\"row_heading level0 row5\" >6</th>\n",
       "                        <td id=\"T_dfe60d90_f253_11ea_98e2_acde48001122row5_col0\" class=\"data row5 col0\" >28,238</td>\n",
       "            </tr>\n",
       "            <tr>\n",
       "                        <th id=\"T_dfe60d90_f253_11ea_98e2_acde48001122level0_row6\" class=\"row_heading level0 row6\" >7</th>\n",
       "                        <td id=\"T_dfe60d90_f253_11ea_98e2_acde48001122row6_col0\" class=\"data row6 col0\" >11,475</td>\n",
       "            </tr>\n",
       "            <tr>\n",
       "                        <th id=\"T_dfe60d90_f253_11ea_98e2_acde48001122level0_row7\" class=\"row_heading level0 row7\" >8</th>\n",
       "                        <td id=\"T_dfe60d90_f253_11ea_98e2_acde48001122row7_col0\" class=\"data row7 col0\" >4,976</td>\n",
       "            </tr>\n",
       "    </tbody></table>"
      ],
      "text/plain": [
       "<pandas.io.formats.style.Styler at 0x11267c390>"
      ]
     },
     "execution_count": 4,
     "metadata": {},
     "output_type": "execute_result"
    }
   ],
   "source": [
    "count_by_ward = pd.DataFrame(estimated_spots.groupby('ward').size(), columns=['rpp_spots'])\n",
    "count_by_ward.style.bar(vmin=0).format('{:,}')"
   ]
  },
  {
   "cell_type": "markdown",
   "metadata": {},
   "source": [
    "## Total Area of Parking\n",
    "\n",
    "How much area is devoted to on-street residential permit parking?"
   ]
  },
  {
   "cell_type": "code",
   "execution_count": 5,
   "metadata": {},
   "outputs": [],
   "source": [
    "parking_spot_length_feet = 21\n",
    "parking_spot_width_feet = 9"
   ]
  },
  {
   "cell_type": "code",
   "execution_count": 6,
   "metadata": {},
   "outputs": [],
   "source": [
    "parking_spot_area_sqft = parking_spot_length_feet * parking_spot_width_feet\n",
    "rpp_area_sqft = len(estimated_spots) * parking_spot_area_sqft\n",
    "rpp_area_acres = rpp_area_sqft / 43560\n",
    "rpp_area_sqmi = rpp_area_sqft / (5280*5280)"
   ]
  },
  {
   "cell_type": "code",
   "execution_count": 7,
   "metadata": {},
   "outputs": [
    {
     "name": "stdout",
     "output_type": "stream",
     "text": [
      "Residential Parking Permit area: 29,309,553 square feet\n",
      "Residential Parking Permit area: 672.9 acres\n",
      "Residential Parking Permit area: 1.051 square miles\n"
     ]
    }
   ],
   "source": [
    "print('Residential Parking Permit area: {:,.0f} square feet'.format(rpp_area_sqft))\n",
    "print('Residential Parking Permit area: {:,.1f} acres'.format(rpp_area_acres))\n",
    "print('Residential Parking Permit area: {:,.3f} square miles'.format(rpp_area_sqmi))"
   ]
  },
  {
   "cell_type": "markdown",
   "metadata": {},
   "source": [
    "## Count by Street"
   ]
  },
  {
   "cell_type": "code",
   "execution_count": 8,
   "metadata": {},
   "outputs": [
    {
     "data": {
      "text/html": [
       "<div>\n",
       "<style scoped>\n",
       "    .dataframe tbody tr th:only-of-type {\n",
       "        vertical-align: middle;\n",
       "    }\n",
       "\n",
       "    .dataframe tbody tr th {\n",
       "        vertical-align: top;\n",
       "    }\n",
       "\n",
       "    .dataframe thead th {\n",
       "        text-align: right;\n",
       "    }\n",
       "</style>\n",
       "<table border=\"1\" class=\"dataframe\">\n",
       "  <thead>\n",
       "    <tr style=\"text-align: right;\">\n",
       "      <th></th>\n",
       "      <th>street_name</th>\n",
       "      <th>street_type</th>\n",
       "      <th>quadrant</th>\n",
       "      <th>rpp_spots</th>\n",
       "    </tr>\n",
       "  </thead>\n",
       "  <tbody>\n",
       "    <tr>\n",
       "      <th>276</th>\n",
       "      <td>CHEVY CHASE</td>\n",
       "      <td>PKWY</td>\n",
       "      <td>NW</td>\n",
       "      <td>381</td>\n",
       "    </tr>\n",
       "    <tr>\n",
       "      <th>38</th>\n",
       "      <td>18TH</td>\n",
       "      <td>ST</td>\n",
       "      <td>NE</td>\n",
       "      <td>300</td>\n",
       "    </tr>\n",
       "    <tr>\n",
       "      <th>442</th>\n",
       "      <td>HAWTHORNE</td>\n",
       "      <td>ST</td>\n",
       "      <td>NW</td>\n",
       "      <td>243</td>\n",
       "    </tr>\n",
       "    <tr>\n",
       "      <th>461</th>\n",
       "      <td>HOWISON</td>\n",
       "      <td>PL</td>\n",
       "      <td>SW</td>\n",
       "      <td>54</td>\n",
       "    </tr>\n",
       "    <tr>\n",
       "      <th>725</th>\n",
       "      <td>RANDOLPH</td>\n",
       "      <td>ST</td>\n",
       "      <td>NW</td>\n",
       "      <td>307</td>\n",
       "    </tr>\n",
       "    <tr>\n",
       "      <th>745</th>\n",
       "      <td>ROSS</td>\n",
       "      <td>PL</td>\n",
       "      <td>NW</td>\n",
       "      <td>14</td>\n",
       "    </tr>\n",
       "    <tr>\n",
       "      <th>771</th>\n",
       "      <td>SHERMAN</td>\n",
       "      <td>AVE</td>\n",
       "      <td>NW</td>\n",
       "      <td>269</td>\n",
       "    </tr>\n",
       "  </tbody>\n",
       "</table>\n",
       "</div>"
      ],
      "text/plain": [
       "     street_name street_type quadrant  rpp_spots\n",
       "276  CHEVY CHASE        PKWY       NW        381\n",
       "38          18TH          ST       NE        300\n",
       "442    HAWTHORNE          ST       NW        243\n",
       "461      HOWISON          PL       SW         54\n",
       "725     RANDOLPH          ST       NW        307\n",
       "745         ROSS          PL       NW         14\n",
       "771      SHERMAN         AVE       NW        269"
      ]
     },
     "execution_count": 8,
     "metadata": {},
     "output_type": "execute_result"
    }
   ],
   "source": [
    "count_by_street = pd.DataFrame(\n",
    "    estimated_spots.groupby(['street_name', 'street_type', 'quadrant']).size()\n",
    "    , columns=['rpp_spots']\n",
    ").reset_index()\n",
    "count_by_street.to_csv('output/count_by_street.csv', index=False)\n",
    "count_by_street.sample(7)"
   ]
  },
  {
   "cell_type": "code",
   "execution_count": null,
   "metadata": {},
   "outputs": [],
   "source": []
  }
 ],
 "metadata": {
  "kernelspec": {
   "display_name": "Python 3",
   "language": "python",
   "name": "python3"
  },
  "language_info": {
   "codemirror_mode": {
    "name": "ipython",
    "version": 3
   },
   "file_extension": ".py",
   "mimetype": "text/x-python",
   "name": "python",
   "nbconvert_exporter": "python",
   "pygments_lexer": "ipython3",
   "version": "3.7.1"
  }
 },
 "nbformat": 4,
 "nbformat_minor": 4
}
