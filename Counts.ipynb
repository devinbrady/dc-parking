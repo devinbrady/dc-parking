{
 "cells": [
  {
   "cell_type": "markdown",
   "metadata": {},
   "source": [
    "Counts on the dataset of estimated residential parking permit (RPP) parking spots in DC."
   ]
  },
  {
   "cell_type": "code",
   "execution_count": 1,
   "metadata": {},
   "outputs": [],
   "source": [
    "import pandas as pd\n",
    "import geopandas as gpd"
   ]
  },
  {
   "cell_type": "code",
   "execution_count": 2,
   "metadata": {},
   "outputs": [],
   "source": [
    "# rpp = gpd.read_file('input/Residential_Parking_Permit_Blocks-shp/Residential_Parking_Permit_Blocks.shp')\n",
    "estimated_spots = gpd.read_file('output/estimated_rpp_spots.geojson')"
   ]
  },
  {
   "cell_type": "markdown",
   "metadata": {},
   "source": [
    "## Total"
   ]
  },
  {
   "cell_type": "code",
   "execution_count": 3,
   "metadata": {},
   "outputs": [
    {
     "name": "stdout",
     "output_type": "stream",
     "text": [
      "Total RPP spots: 158,521\n"
     ]
    }
   ],
   "source": [
    "print('Total RPP spots: {:,.0f}'.format(len(estimated_spots)))"
   ]
  },
  {
   "cell_type": "markdown",
   "metadata": {},
   "source": [
    "## RPP Spots by Ward"
   ]
  },
  {
   "cell_type": "code",
   "execution_count": 4,
   "metadata": {},
   "outputs": [
    {
     "data": {
      "text/plain": [
       "ward\n",
       "1    15942\n",
       "2    15695\n",
       "3    40107\n",
       "4    23825\n",
       "5    17898\n",
       "6    28432\n",
       "7    11604\n",
       "8     5018\n",
       "dtype: int64"
      ]
     },
     "execution_count": 4,
     "metadata": {},
     "output_type": "execute_result"
    }
   ],
   "source": [
    "estimated_spots.groupby('ward').size()"
   ]
  },
  {
   "cell_type": "markdown",
   "metadata": {},
   "source": [
    "## Total Area of Parking\n",
    "\n",
    "How much area is devoted to on-street residential permit parking?"
   ]
  },
  {
   "cell_type": "code",
   "execution_count": 5,
   "metadata": {},
   "outputs": [],
   "source": [
    "parking_spot_length_feet = 21\n",
    "parking_spot_width_feet = 9\n",
    "parking_spot_area_sqft = parking_spot_length_feet * parking_spot_width_feet"
   ]
  },
  {
   "cell_type": "code",
   "execution_count": 6,
   "metadata": {},
   "outputs": [
    {
     "name": "stdout",
     "output_type": "stream",
     "text": [
      "Residential Parking Permit area: 29,960,469 square feet\n"
     ]
    }
   ],
   "source": [
    "rpp_area_sqft = len(estimated_spots) * parking_spot_area_sqft\n",
    "print('Residential Parking Permit area: {:,.0f} square feet'.format(rpp_area_sqft))"
   ]
  },
  {
   "cell_type": "code",
   "execution_count": 7,
   "metadata": {},
   "outputs": [
    {
     "name": "stdout",
     "output_type": "stream",
     "text": [
      "Residential Parking Permit area: 687.8 acres\n"
     ]
    }
   ],
   "source": [
    "rpp_area_acres = rpp_area_sqft / 43560\n",
    "print('Residential Parking Permit area: {:,.1f} acres'.format(rpp_area_acres))"
   ]
  },
  {
   "cell_type": "code",
   "execution_count": 8,
   "metadata": {},
   "outputs": [
    {
     "name": "stdout",
     "output_type": "stream",
     "text": [
      "Residential Parking Permit area: 1.075 square miles\n"
     ]
    }
   ],
   "source": [
    "rpp_area_sqmi = rpp_area_sqft / (5280*5280)\n",
    "print('Residential Parking Permit area: {:,.3f} square miles'.format(rpp_area_sqmi))"
   ]
  },
  {
   "cell_type": "code",
   "execution_count": null,
   "metadata": {},
   "outputs": [],
   "source": []
  }
 ],
 "metadata": {
  "kernelspec": {
   "display_name": "Python 3",
   "language": "python",
   "name": "python3"
  },
  "language_info": {
   "codemirror_mode": {
    "name": "ipython",
    "version": 3
   },
   "file_extension": ".py",
   "mimetype": "text/x-python",
   "name": "python",
   "nbconvert_exporter": "python",
   "pygments_lexer": "ipython3",
   "version": "3.7.1"
  }
 },
 "nbformat": 4,
 "nbformat_minor": 4
}
